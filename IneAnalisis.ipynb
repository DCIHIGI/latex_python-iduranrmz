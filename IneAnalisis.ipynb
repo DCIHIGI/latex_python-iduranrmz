{
 "cells": [
  {
   "cell_type": "code",
   "execution_count": 1,
   "metadata": {},
   "outputs": [],
   "source": [
    "import pandas as pd \n",
    "import matplotlib.pyplot as plt \n",
    "import numpy as np\n",
    "import glob\n",
    "from sklearn.linear_model import LinearRegression\n",
    "import math as mt"
   ]
  },
  {
   "cell_type": "code",
   "execution_count": 2,
   "metadata": {},
   "outputs": [],
   "source": [
    "files2019=glob.glob(\"D:/ProgramasJupyter/HIGI/PrediccionINE/Archivos2019/*.txt\")\n",
    "files2020=glob.glob(\"D:/ProgramasJupyter/HIGI/PrediccionINE/Archivos2020/*.txt\")\n",
    "#Cargamos los archivos del directorio en un arreglo\n",
    "#Creamos 2 arreglos porque el formato del 2020 es diferente al del 2019 "
   ]
  },
  {
   "cell_type": "code",
   "execution_count": 3,
   "metadata": {},
   "outputs": [],
   "source": [
    "#Comienza sección de código correspondiente al tratamiento de datos del 2019\n",
    "l_mpo_gral_19=[]\n",
    "l_sec_gral_19=[]\n",
    "for i in range(0, len(files2019)):\n",
    "    data_19 = pd.read_csv(files2019[i], usecols=[0,1,2,3,9])\n",
    "    data_ent_19=data_19[data_19['ENTIDAD']==11]\n",
    "    mpos_19=np.unique(data_ent_19['MUNICIPIO'])\n",
    "    secs_19=np.unique(data_ent_19['SECCION'])\n",
    "    l_mpo_19=[]\n",
    "    l_sec_19=[]\n",
    "    for mpo_19 in mpos_19[1:]:\n",
    "        l_mpo_19.append(data_ent_19[data_ent_19['MUNICIPIO']==mpo_19]['LISTA'].sum())\n",
    "    l_mpo_gral_19.append(l_mpo_19)\n",
    "    for sec_19 in secs_19[1:]:\n",
    "        l_sec_19.append(data_ent_19[data_ent_19['SECCION']==sec_19]['LISTA'].sum())\n",
    "    \n",
    "    temp=np.zeros(3161)\n",
    "    temp[:len(l_sec_19)]=l_sec_19\n",
    "    l_sec_gral_19.append(temp)\n",
    "    \n",
    "l_mpo_gral_array_19=np.asarray(l_mpo_gral_19)\n",
    "\n",
    "l_sec_gral_array_19=np.asarray(l_sec_gral_19)\n",
    "\n",
    "#Termina sección de código correspondiente al tratamiento de datos del 2019"
   ]
  },
  {
   "cell_type": "code",
   "execution_count": 4,
   "metadata": {},
   "outputs": [],
   "source": [
    "#Comienza sección de código correspondiente al tratamiento de datos del 2020\n",
    "l_mpo_gral_20=[]\n",
    "l_sec_gral_20=[]\n",
    "for j in range(0, len(files2020)):\n",
    "    data_20 = pd.read_csv(files2020[j], usecols=[0,1,2,3,13])\n",
    "    data_ent_20=data_20[data_20['ENTIDAD']==11]\n",
    "    mpos_20=np.unique(data_ent_20['MUNICIPIO'])\n",
    "    secs_20=np.unique(data_ent_20['SECCION'])\n",
    "    l_mpo_20=[]\n",
    "    l_sec_20=[]\n",
    "    for mpo_20 in mpos_20[1:]:\n",
    "        l_mpo_20.append(data_ent_20[data_ent_20['MUNICIPIO']==mpo_20]['LISTA_NAL'].sum())\n",
    "    l_mpo_gral_20.append(l_mpo_20)\n",
    "    \n",
    "    for sec_20 in secs_20[1:]:\n",
    "        l_sec_20.append(data_ent_20[data_ent_20['SECCION']==sec_20]['LISTA_NAL'].sum()) \n",
    "    \n",
    "    temp=np.zeros(3161)\n",
    "    temp[:len(l_sec_20)]=l_sec_20\n",
    "    l_sec_gral_20.append(temp)\n",
    "\n",
    "l_mpo_gral_array_20=np.asarray(l_mpo_gral_20)\n",
    "l_sec_gral_array_20=np.asarray(l_sec_gral_20)\n",
    "#Termina sección de código correspondiente al tratamiento de datos del 2020"
   ]
  },
  {
   "cell_type": "code",
   "execution_count": 14,
   "metadata": {},
   "outputs": [
    {
     "name": "stdout",
     "output_type": "stream",
     "text": [
      "(16, 46)\n"
     ]
    }
   ],
   "source": [
    "#Aquí vamos a unir los resultados obtenidos hasta ahora para los municipios y secciones\n",
    "mun_total=np.concatenate((l_mpo_gral_array_19,l_mpo_gral_array_20))\n",
    "sec_total=np.concatenate((l_sec_gral_array_19,l_sec_gral_array_20))\n",
    "print(mun_total.shape)"
   ]
  },
  {
   "cell_type": "code",
   "execution_count": 37,
   "metadata": {},
   "outputs": [
    {
     "data": {
      "image/png": "[encoded data removed]",
      "text/plain": [
       "<Figure size 432x288 with 1 Axes>"
      ]
     },
     "metadata": {
      "needs_background": "light"
     },
     "output_type": "display_data"
    }
   ],
   "source": [
    "#Para las regresiones de los munucipios\n",
    "x=np.linspace(1,16,16).reshape(-1,1)\n",
    "linR=LinearRegression()\n",
    "mm=[]\n",
    "bm=[]\n",
    "predm=[]\n",
    "for i in range(46):\n",
    "    linR.fit(x,mun_total[:,i])\n",
    "    mm.append(int(linR.coef_[0]))\n",
    "    bm.append(int(linR.intercept_))\n",
    "    predm.append(int(linR.predict(np.array(18.0).reshape(1,-1))))\n",
    "\n",
    "pm=[]\n",
    "for i in range(len(predm)):\n",
    "    am=mt.ceil(predm[i]/750)\n",
    "    pm.append(am)\n",
    "    \n",
    "pmm=np.asarray(pm)\n",
    "for i in range(46):\n",
    "    plt.title(\"Modelado de la lista nominal \\n Regresión lineal\")\n",
    "    plt.yscale(\"log\")\n",
    "    plt.plot(x, mun_total[:,i])    \n",
    "    plt.savefig(\"RegresiónLinealMpo.png\")\n",
    "#print(pmm.sum())\n",
    "\n"
   ]
  },
  {
   "cell_type": "code",
   "execution_count": 73,
   "metadata": {},
   "outputs": [],
   "source": [
    "#Para las regresiones de las secciones\n",
    "x=np.linspace(1,16,16).reshape(-1,1)\n",
    "linR=LinearRegression()\n",
    "ms=[]\n",
    "bs=[]\n",
    "preds=[]\n",
    "for i in range(3161):\n",
    "    linR.fit(x,sec_total[:,i])\n",
    "    ms.append(int(linR.coef_[0]))\n",
    "    bs.append(int(linR.intercept_))\n",
    "    preds.append(int(linR.predict(np.array(18.0).reshape(1,-1))))\n",
    "\n",
    "ps=[]\n",
    "for i in range(3161):\n",
    "    ass=mt.ceil(preds[i]/750)\n",
    "    ps.append(ass)\n",
    "\n",
    "smm=np.asarray(ps)\n",
    "    \n"
   ]
  },
  {
   "cell_type": "code",
   "execution_count": 32,
   "metadata": {},
   "outputs": [],
   "source": [
    "np.savetxt('resultados.txt', (np.linspace(1,46,46), pmm))"
   ]
  }
 ],
 "metadata": {
  "kernelspec": {
   "display_name": "Python 3",
   "language": "python",
   "name": "python3"
  },
  "language_info": {
   "codemirror_mode": {
    "name": "ipython",
    "version": 3
   },
   "file_extension": ".py",
   "mimetype": "text/x-python",
   "name": "python",
   "nbconvert_exporter": "python",
   "pygments_lexer": "ipython3",
   "version": "3.8.5"
  }
 },
 "nbformat": 4,
 "nbformat_minor": 4
}
